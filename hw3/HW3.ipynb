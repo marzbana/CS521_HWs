{
  "cells": [
    {
      "cell_type": "markdown",
      "metadata": {
        "id": "UJ0iRRz-oIgJ"
      },
      "source": [
        "**By: Alex Marzban**\n",
        "\n",
        "**Visit the GitHub repository to access the code for this assignment:** [https://github.com/marzbana/CS521_HWs/tree/main/hw3](https://github.com/marzbana/CS521_HWs/tree/main/hw3)\n",
        "\n",
        "There is a jupyter notebook to view.\n"
      ]
    },
    {
      "cell_type": "code",
      "execution_count": null,
      "metadata": {
        "collapsed": true,
        "id": "-Kg2uU86oKkL"
      },
      "outputs": [],
      "source": [
        "from google.colab import userdata\n",
        "github_path = \"https://\" + userdata.get('GitHubUserName') + \":\" + userdata.get('GitHubPAT') + \"@github.com/marzbana/CS521_HWs.git\"\n",
        "! git clone {github_path}\n",
        "%cd CS521_HWs/hw3\n",
        "! pip install -r requirements.txt\n"
      ]
    },
    {
      "cell_type": "code",
      "execution_count": null,
      "metadata": {
        "collapsed": true,
        "id": "oVTrYymtpnhA"
      },
      "outputs": [],
      "source": [
        "%cd /content/CS521_HWs/hw3\n",
        "\n",
        "! git add BoW.pth\n",
        "! git add BoW_standard.pth\n",
        "#! git add requirements.txt\n",
        "#! git reset HEAD~\n",
        "! git status\n",
        "#! git config --global user.email \"marza@bu.edu\"\n",
        "#! git commit -m \"hw3 collab\"\n",
        "#! git push\n"
      ]
    },
    {
      "cell_type": "code",
      "execution_count": null,
      "metadata": {
        "collapsed": true,
        "id": "5Qvf1rbOoIgK"
      },
      "outputs": [],
      "source": [
        "import sys\n",
        "import os\n",
        "import torch\n",
        "import torch.nn as nn\n",
        "import torch.optim as optim\n",
        "import torch.nn.functional as F\n",
        "import numpy as np\n",
        "import matplotlib.pyplot as plt\n",
        "from torch.optim.lr_scheduler import LambdaLR\n",
        "from torchtext.datasets import IMDB\n",
        "from torchtext.vocab import GloVe\n",
        "from datasets import load_dataset\n",
        "from torchtext.data.utils import get_tokenizer\n",
        "from collections import Counter\n",
        "from torchtext.vocab import Vocab, build_vocab_from_iterator\n",
        "from torch.utils.data import Dataset, DataLoader\n",
        "import portalocker\n",
        "import random\n",
        "from sklearn.neighbors import NearestNeighbors\n",
        "import math\n",
        "\n",
        "from torchvision import datasets, transforms\n",
        "\n",
        "current_dir = os.path.dirname(os.path.abspath('__file__'))\n",
        "\n",
        "# code_dir = os.path.join(current_dir, 'code')\n",
        "\n",
        "# if code_dir not in sys.path:\n",
        "#     sys.path.append(code_dir)\n"
      ]
    },
    {
      "cell_type": "markdown",
      "metadata": {
        "id": "vdZU-TZPoIgL"
      },
      "source": [
        "## Problem 1: Interval Bound Propagation (IBP) Training\n",
        "\n",
        "In this problem, you will implement interval bound propagation (IBP) training for a simple neural network.\n",
        "\n",
        "### Network Description\n",
        "\n",
        "Implement a fully connected neural network consisting of 3 layers (each *layer* here is a linear layer followed by a ReLU), each of size 50 neurons. Use cross-entropy loss and train on the MNIST dataset. You can use the dataloaders from previous assignments ([GitHub Link](https://github.com/ishcha/CS521_HWs/blob/main/hw1/adversarial_training.ipynb)).\n",
        "\n",
        "### 1. IBP Training Procedure\n",
        "\n",
        "Implement the IBP [GDS+19] training procedure on your network. Use the training tricks used by the paper — gradual reduction of the weighing factor $k$ in Equation 12 of the paper from 1 to 0.5 (see hints below) and gradual increase in the robustness radius $\\epsilon_{\\text{train}}$ as the training progresses, starting from 0 to target $\\epsilon_{\\text{train}} = 0.1$. Report the standard accuracy and robust accuracy (with respect to PGD attack) of your network. Also report the training time and contrast it with that of standard training.\n",
        "\n",
        "### 2. Box Verification\n",
        "\n",
        "Use your box verification implementation from HW-2 and report the verified accuracy (number of test images for which the network is certified robust in an $L_{\\infty}$ radius of $\\epsilon_{\\text{test}}$ ball), where $\\epsilon_{\\text{test}}$ can take 10 values, evenly between 0.01 and 0.1. Analyze images of some adversarial examples with perturbations within different $\\epsilon_{\\text{test}}$ if your network is not certified to be robust for some $\\epsilon_{\\text{test}}$.\n",
        "\n",
        "### Solution Requirements\n",
        "\n",
        "You should present your solution for this in the form of a Jupyter notebook. We recommend using Google Colab since we can interact with your solution easily, but you can also just upload the notebook to your GitHub repo.\n",
        "\n",
        "### Hints\n",
        "\n",
        "IBP procedure modifies the training loss function by having another robustness loss term. The overall loss looks as follows, where $\\text{CE}(\\cdot, \\cdot)$ is the cross-entropy loss and $z_K$ are the logits at the last layer $K$:\n",
        "\n",
        "$$\n",
        "\\mathcal{L}_{\\text{IBP}} = k \\cdot \\text{CE}(z_K, y_{\\text{true}}) + (1 - k) \\cdot \\text{CE}(\\hat{z}_K(\\epsilon_{\\text{train}}), y_{\\text{true}})\n",
        "$$\n",
        "\n",
        "The last linear layer is typically absorbed in the robustness specification, as demonstrated in Equation 9 of the paper. You need to basically redefine the loss function in your training process, including the training tricks in the paper for your IBP training.\n"
      ]
    },
    {
      "cell_type": "code",
      "execution_count": null,
      "metadata": {
        "id": "AlVwSZsdoIgM"
      },
      "outputs": [],
      "source": [
        "#create model and load data\n",
        "print(\"Training LLM with 3 layers\")\n",
        "# from tensorboardX import SummaryWriter\n",
        "\n",
        "device = torch.device(\"cuda\" if torch.cuda.is_available() else \"cpu\")\n",
        "batch_size = 100\n",
        "\n",
        "np.random.seed(42)\n",
        "torch.manual_seed(42)\n",
        "\n",
        "transform = transforms.Compose([\n",
        "    transforms.ToTensor()\n",
        "])\n",
        "\n",
        "## Dataloaders\n",
        "train_dataset = datasets.MNIST('mnist_data/', train=True, download=True, transform=transform)\n",
        "test_dataset = datasets.MNIST('mnist_data/', train=False, download=True, transform=transform)\n",
        "\n",
        "\n",
        "train_loader = DataLoader(train_dataset, batch_size=batch_size, shuffle=True)\n",
        "test_loader = DataLoader(test_dataset, batch_size=batch_size, shuffle=False)\n",
        "\n",
        "#neural network structure\n",
        "class Net(nn.Module):\n",
        "    def __init__(self):\n",
        "        super(Net, self).__init__()\n",
        "        self.layers = nn.ModuleList([\n",
        "            nn.Linear(28*28, 50),\n",
        "            nn.ReLU(),\n",
        "            nn.Linear(50, 50),\n",
        "            nn.ReLU(),\n",
        "            nn.Linear(50, 10)\n",
        "        ])\n",
        "\n",
        "    def forward(self, x):\n",
        "        x = x.view((-1, 28*28))\n",
        "        for layer in self.layers:\n",
        "            x = layer(x)\n",
        "        return x\n",
        "\n",
        "model = Net().to(device)\n",
        "model.train()\n",
        "\n"
      ]
    },
    {
      "cell_type": "code",
      "execution_count": 104,
      "metadata": {
        "id": "USfjurhvoIgM"
      },
      "outputs": [],
      "source": [
        "def IBP(model, x, eps):\n",
        "    z_lower = x - eps\n",
        "    z_upper = x + eps\n",
        "\n",
        "    z_lower = torch.clamp(z_lower, 0, 1)\n",
        "    z_upper = torch.clamp(z_upper, 0, 1)\n",
        "    for layer in model.layers:\n",
        "       if isinstance(layer, nn.Linear):\n",
        "        W = layer.weight\n",
        "        b = layer.bias\n",
        "        W_abs = W.abs()\n",
        "\n",
        "        uk_1 = (z_lower + z_upper)/2\n",
        "        rk_1 = (z_upper - z_lower)/2\n",
        "        uk = F.linear(uk_1, W, b)\n",
        "        rk = F.linear(rk_1, W_abs, None)\n",
        "\n",
        "        z_lower = uk - rk\n",
        "        z_upper = uk + rk\n",
        "       elif isinstance(layer, nn.ReLU):\n",
        "        z_lower = F.relu(z_lower)\n",
        "        z_upper = F.relu(z_upper)\n",
        "       else:\n",
        "          raise NotImplementedError(f\"Layer {layer} not supported in IBP.\")\n",
        "    return z_lower, z_upper\n",
        "\n",
        "class CustomLoss(nn.Module):\n",
        "    def __init__(self):\n",
        "        super(CustomLoss, self).__init__()\n",
        "\n",
        "    def forward(self,logits, labels, worst_case_logits, k):\n",
        "        L_fit = F.cross_entropy(logits,labels)\n",
        "        if k == 1: return L_fit\n",
        "        L_spec = F.cross_entropy(worst_case_logits, labels)\n",
        "\n",
        "        loss = k * L_fit + (1-k) * L_spec\n",
        "        return loss\n",
        "\n",
        "def getEps(current_step, total_steps, eps_final):\n",
        "    stopping = 10000*total_steps/60000\n",
        "    if current_step < stopping: return (current_step / stopping) * (eps_final)\n",
        "    else: return eps_final\n",
        "\n",
        "def getK(current_step, total_steps, k_final):\n",
        "    stopping = 2000*total_steps/60000\n",
        "    if current_step < stopping: return 1 - ((current_step / stopping) * (1-k_final))\n",
        "    else: return k_final\n",
        "\n",
        "def zEPS(z_lower, z_upper, y_target):\n",
        "    z_eps = z_upper.clone()\n",
        "\n",
        "    z_eps[torch.arange(len(y_target)), y_target] = z_lower[torch.arange(len(y_target)), y_target]\n",
        "\n",
        "    return z_eps\n",
        "\n",
        "def train(model, epochs, eps_final, k_final, train_loader):\n",
        "    model.train()\n",
        "    total_steps = epochs * len(train_loader)\n",
        "    def customSchedule(current_step):\n",
        "        checkpoint1 = int(15000 * total_steps / 60000)\n",
        "        checkpoint2 = int(25000 * total_steps / 60000)\n",
        "\n",
        "        if current_step >= checkpoint1 and current_step < checkpoint2:\n",
        "            return 0.1\n",
        "        elif current_step >= checkpoint2:\n",
        "            return 0.01\n",
        "        else:\n",
        "            return 1.0\n",
        "    current_step = 0\n",
        "    criterion = CustomLoss()\n",
        "    optimizer = optim.Adam(model.parameters(), lr=0.001)\n",
        "    scheduler = LambdaLR(optimizer, lr_lambda=customSchedule)\n",
        "    for epoch in range(1, epochs + 1):\n",
        "       total_loss = 0.0\n",
        "       correct = 0\n",
        "       total = 0\n",
        "\n",
        "       for _, (data, target) in enumerate(train_loader):\n",
        "          data, target = data.to(device), target.to(device)\n",
        "          optimizer.zero_grad()\n",
        "\n",
        "          logits = model(data)\n",
        "          eps = getEps(current_step, total_steps, eps_final)\n",
        "          data = data.view(-1, 28*28)\n",
        "          z_lower, z_upper = IBP(model, data, eps)\n",
        "          z_eps = zEPS(z_lower, z_upper, target)\n",
        "          k = getK(current_step, total_steps, k_final)\n",
        "          loss = criterion(logits, target, z_eps, k)\n",
        "\n",
        "          loss.backward()\n",
        "          optimizer.step()\n",
        "          scheduler.step()\n",
        "\n",
        "\n",
        "          total_loss += loss.item()\n",
        "          _, predicted = torch.max(logits, 1)\n",
        "          total += target.size(0)\n",
        "          correct += (predicted == target).sum().item()\n",
        "          current_step += 1\n",
        "\n",
        "       epoch_loss = total_loss / len(train_loader.dataset)\n",
        "       epoch_accuracy = 100.0 * correct / total\n",
        "\n",
        "\n",
        "       if epoch % 10 == 0 or epoch == 1:\n",
        "        print(f\"Epoch {epoch}/{epochs} - Loss: {epoch_loss:.9f} - Accuracy: {epoch_accuracy:.2f}%\")\n",
        "\n",
        "\n"
      ]
    },
    {
      "cell_type": "markdown",
      "metadata": {
        "id": "yDCcSaUDoIgM"
      },
      "source": [
        "## IBP Training Implementation\n",
        "\n",
        "This code implements **Interval Bound Propagation (IBP)** training for a 3-layer feedforward neural network trained on the **MNIST** dataset.\n",
        "\n",
        "### Network Architecture\n",
        "\n",
        "The network consists of three fully connected layers, each followed by a ReLU activation function. Each linear layer has 50 neurons.\n",
        "\n",
        "### IBP Function (`IBP`)\n",
        "\n",
        "**Purpose:**  \n",
        "Computes the lower and upper bounds of the network's output given an input perturbation $\\epsilon$.\n",
        "\n",
        "**Process:**\n",
        "1. **Input Perturbation:**  \n",
        "   The input `x` is reshaped and perturbed by $\\epsilon$ to obtain `z_lower` and `z_upper`, ensuring that the pixel values remain within the valid range [0, 1].\n",
        "   \n",
        "2. **Layer-wise Bound Propagation:**  \n",
        "   For each layer in the model:\n",
        "   - **Linear Layers:**  \n",
        "     Computes the affine transformation bounds using the absolute weights.\n",
        "   - **ReLU Layers:**  \n",
        "     Applies the ReLU activation to the bounds.\n",
        "   \n",
        "3. **Output:**  \n",
        "   Returns the final lower and upper bounds of the logits.\n",
        "\n",
        "### Custom Loss Function (`CustomLoss`)\n",
        "\n",
        "**Purpose:**  \n",
        "Combines the standard cross-entropy loss with a robustness loss term.\n",
        "\n",
        "**Components:**\n",
        "- **Standard Loss ($\\text{L}_{\\text{fit}}$):**  \n",
        "  Cross-entropy loss between the logits and the true labels.\n",
        "  \n",
        "- **Robustness Loss ($\\text{L}_{\\text{spec}}$):**  \n",
        "  Cross-entropy loss between the worst-case logits (perturbed by $\\epsilon_{\\text{train}}$) and the true labels.\n",
        "  \n",
        "- **Weighting Factor k:**  \n",
        "  Balances the two loss components:\n",
        "  $$\n",
        "  \\mathcal{L}_{\\text{IBP}} = k \\cdot \\text{CE}(z_K, y_{\\text{true}}) + (1 - k) \\cdot \\text{CE}(\\hat{z}_K(\\epsilon_{\\text{train}}), y_{\\text{true}})\n",
        "  $$\n",
        "\n",
        "### Epsilon and k Scheduling\n",
        "\n",
        "- **`getEps` Function:**  \n",
        "  Gradually increases the robustness radius $\\epsilon_{\\text{train}}$ from 0 to the final value  as training progresses. The ramp-up period is linearly scaled based on the total number of training steps and the methods in the paper.\n",
        "  \n",
        "- **`getK` Function:**  \n",
        "  Gradually decreases the weighting factor $k$ from 1 to 0.5, similar to the ramp-up strategy for $\\epsilon_{\\text{train}}$. This balances the emphasis between standard and robustness loss over time.\n",
        "\n",
        "### Training Function (`train`)\n",
        "\n",
        "**Optimizer and Scheduler:**  \n",
        "Utilizes the Adam optimizer with a learning rate scheduler that follows a custom schedule that follows a scaled version of the paper's training strategy on the MINST dataset.\n",
        "\n",
        "**Training Loop:**\n",
        "1. **Epoch Iteration:**  \n",
        "   For each epoch, the model processes batches of data:\n",
        "   \n",
        "2. **Batch Processing:**\n",
        "   - **Forward Pass:**  \n",
        "     Computes the logits and perturbed bounds using the `IBP` function.\n",
        "     \n",
        "   - **Worst-case Logits Calculation:**  \n",
        "     Replaces the logits of the true class with the lower bound to obtain `z_eps`.\n",
        "     \n",
        "   - **Loss Computation:**  \n",
        "     Calculates the custom loss using the `CustomLoss` module.\n",
        "     \n",
        "   - **Backpropagation and Optimization:**  \n",
        "     Performs backpropagation and updates the model parameters.\n",
        "     \n",
        "3. **Metrics Tracking:**  \n",
        "   Tracks and prints the loss and accuracy at specified intervals.\n",
        "\n",
        "### Accuracy and Robustness Results\n",
        "\n",
        "- **Standard Training:**\n",
        "  - Achieved very high accuracy after 10 epochs.\n",
        "  - Achieved very high accuracy quickly, reaching **100%** after **60 epochs**.\n",
        "  \n",
        "- **IBP Training:**\n",
        "  - Achieved very high accuracy after 10 epochs.\n",
        "  - Standard accuracy slightly decreased to **89.75%** as the model focused more on robustness.\n",
        "  \n",
        "- **Robust Accuracy:**\n",
        "  - **IBP Trained Model:**\n",
        "    - **74.71%** robust accuracy at $\\epsilon = 0.01$\n",
        "    - **35.37%** robust accuracy at $\\epsilon = 0.1$\n",
        "  - **Standard Trained Model:**\n",
        "    - **67.14%** robust accuracy at $\\epsilon = 0.001$\n",
        "    - **0%** robust accuracy at $\\epsilon = 0.008$\n",
        "  \n",
        "- **Training Time:**\n",
        "  - Both standard and IBP trained models required approximately **11.5 minutes** to train for **200 epochs**.\n",
        "  - The standard model quickly, after about **1.5 mintes**, achieved high accuracy within the initial epochs, aligning with the goal of non-robust training.\n",
        "  - The IBP trained model took more epochs to balance and maximize robust accuracy while maintaining acceptable standard accuracy.\n",
        "\n",
        "### Additional Observations\n",
        "\n",
        "- **Final $k$ Values:**\n",
        "  - Experimented with different final values of $k$ (0 and 0.5):\n",
        "    - Lowering $k$ to **0** resulted in significantly reduced standard accuracy, highlighting the importance of balancing between standard and robustness objectives."
      ]
    },
    {
      "cell_type": "code",
      "execution_count": null,
      "metadata": {
        "id": "0RXNxT-ioIgN",
        "outputId": "74b3b4b2-4cac-40cb-c6f2-45584da5b74d"
      },
      "outputs": [
        {
          "name": "stdout",
          "output_type": "stream",
          "text": [
            "Standard Training: 11m 48.7s\n"
          ]
        }
      ],
      "source": [
        "print(\"Standard Training: 11m 48.7s\")"
      ]
    },
    {
      "cell_type": "code",
      "execution_count": null,
      "metadata": {
        "id": "hZkAe9SRoIgN",
        "outputId": "5166404d-53b2-4d0f-fbf1-1f6a6b54716a"
      },
      "outputs": [
        {
          "name": "stdout",
          "output_type": "stream",
          "text": [
            "Epoch 1/200 - Loss: 0.004657656 - Accuracy: 86.59%\n",
            "Epoch 10/200 - Loss: 0.000571831 - Accuracy: 98.22%\n",
            "Epoch 20/200 - Loss: 0.000205949 - Accuracy: 99.34%\n",
            "Epoch 30/200 - Loss: 0.000113213 - Accuracy: 99.64%\n",
            "Epoch 40/200 - Loss: 0.000065295 - Accuracy: 99.79%\n",
            "Epoch 50/200 - Loss: 0.000096978 - Accuracy: 99.69%\n",
            "Epoch 60/200 - Loss: 0.000002343 - Accuracy: 100.00%\n",
            "Epoch 70/200 - Loss: 0.000000877 - Accuracy: 100.00%\n",
            "Epoch 80/200 - Loss: 0.000000339 - Accuracy: 100.00%\n",
            "Epoch 90/200 - Loss: 0.000000181 - Accuracy: 100.00%\n",
            "Epoch 100/200 - Loss: 0.000000158 - Accuracy: 100.00%\n",
            "Epoch 110/200 - Loss: 0.000000138 - Accuracy: 100.00%\n",
            "Epoch 120/200 - Loss: 0.000000121 - Accuracy: 100.00%\n",
            "Epoch 130/200 - Loss: 0.000000106 - Accuracy: 100.00%\n",
            "Epoch 140/200 - Loss: 0.000000093 - Accuracy: 100.00%\n",
            "Epoch 150/200 - Loss: 0.000000081 - Accuracy: 100.00%\n",
            "Epoch 160/200 - Loss: 0.000000071 - Accuracy: 100.00%\n",
            "Epoch 170/200 - Loss: 0.000000062 - Accuracy: 100.00%\n",
            "Epoch 180/200 - Loss: 0.000000055 - Accuracy: 100.00%\n",
            "Epoch 190/200 - Loss: 0.000000048 - Accuracy: 100.00%\n",
            "Epoch 200/200 - Loss: 0.000000042 - Accuracy: 100.00%\n"
          ]
        }
      ],
      "source": [
        "model = Net().to(device)\n",
        "model.train()\n",
        "train(model, 200, 0, 1, train_loader)\n",
        "torch.save(model, 'standardMINST.pth')"
      ]
    },
    {
      "cell_type": "code",
      "execution_count": null,
      "metadata": {
        "id": "9GZqGuLeoIgN",
        "outputId": "bf9dbc4f-8a5f-4607-9dc8-7b7c672415f3"
      },
      "outputs": [
        {
          "name": "stdout",
          "output_type": "stream",
          "text": [
            "IBP Training: 11m 31.9s\n"
          ]
        }
      ],
      "source": [
        "print(\"IBP Training: 11m 31.9s\")"
      ]
    },
    {
      "cell_type": "code",
      "execution_count": null,
      "metadata": {
        "id": "AUzKzwzLoIgO",
        "outputId": "dceeecbb-6951-4ed1-fe92-a2cb1874bb05"
      },
      "outputs": [
        {
          "name": "stdout",
          "output_type": "stream",
          "text": [
            "Epoch 1/200 - Loss: 0.004897115 - Accuracy: 86.97%\n",
            "Epoch 10/200 - Loss: 0.003847742 - Accuracy: 95.76%\n",
            "Epoch 20/200 - Loss: 0.006533807 - Accuracy: 93.95%\n",
            "Epoch 30/200 - Loss: 0.009500962 - Accuracy: 90.87%\n",
            "Epoch 40/200 - Loss: 0.009571685 - Accuracy: 89.30%\n",
            "Epoch 50/200 - Loss: 0.009007934 - Accuracy: 89.34%\n",
            "Epoch 60/200 - Loss: 0.008436319 - Accuracy: 89.63%\n",
            "Epoch 70/200 - Loss: 0.008372996 - Accuracy: 89.66%\n",
            "Epoch 80/200 - Loss: 0.008319871 - Accuracy: 89.68%\n",
            "Epoch 90/200 - Loss: 0.008247389 - Accuracy: 89.69%\n",
            "Epoch 100/200 - Loss: 0.008242196 - Accuracy: 89.70%\n",
            "Epoch 110/200 - Loss: 0.008237586 - Accuracy: 89.70%\n",
            "Epoch 120/200 - Loss: 0.008232931 - Accuracy: 89.71%\n",
            "Epoch 130/200 - Loss: 0.008228309 - Accuracy: 89.71%\n",
            "Epoch 140/200 - Loss: 0.008223877 - Accuracy: 89.73%\n",
            "Epoch 150/200 - Loss: 0.008219712 - Accuracy: 89.72%\n",
            "Epoch 160/200 - Loss: 0.008215304 - Accuracy: 89.73%\n",
            "Epoch 170/200 - Loss: 0.008211124 - Accuracy: 89.73%\n",
            "Epoch 180/200 - Loss: 0.008206825 - Accuracy: 89.75%\n",
            "Epoch 190/200 - Loss: 0.008202595 - Accuracy: 89.75%\n",
            "Epoch 200/200 - Loss: 0.008198521 - Accuracy: 89.75%\n"
          ]
        }
      ],
      "source": [
        "model = Net().to(device)\n",
        "model.train()\n",
        "train(model, 200, .2, .5, train_loader)\n",
        "torch.save(model, 'robustMINST.pth')"
      ]
    },
    {
      "cell_type": "code",
      "execution_count": null,
      "metadata": {
        "id": "lOKtphWroIgO"
      },
      "outputs": [],
      "source": [
        "# verifying robustness\n",
        "def box_interval(model, x, epsilon):\n",
        "    x = x.view(-1, 28*28)\n",
        "\n",
        "    lower = x - epsilon\n",
        "    upper = x + epsilon\n",
        "\n",
        "\n",
        "    for layer in model.layers:\n",
        "        if isinstance(layer, nn.Linear):\n",
        "            weight = layer.weight\n",
        "\n",
        "            bias = layer.bias if layer.bias is not None else torch.zeros(layer.out_features).to(x.device)\n",
        "\n",
        "\n",
        "            W_pos = torch.clamp(weight, min=0)\n",
        "            W_neg = torch.clamp(weight, max=0)\n",
        "\n",
        "            lower2 = lower.clone()\n",
        "            upper2 = upper.clone()\n",
        "\n",
        "            lower = F.linear(lower2, W_pos, bias) + F.linear(upper2, W_neg, bias)\n",
        "            upper = F.linear(upper2, W_pos, bias) + F.linear(lower2, W_neg, bias)\n",
        "\n",
        "        elif isinstance(layer, nn.ReLU):\n",
        "            lower = F.relu(lower)\n",
        "            upper = F.relu(upper)\n",
        "\n",
        "        else:\n",
        "            raise NotImplementedError(f\"Layer {layer} is not correct\")\n",
        "\n",
        "    return lower, upper\n",
        "\n",
        "def measure_robustness(model, epsilon, data_loader=test_loader):\n",
        "\n",
        "    model.eval()\n",
        "    correct = 0\n",
        "    total = 0\n",
        "\n",
        "    with torch.no_grad():\n",
        "        for data, target in data_loader:\n",
        "            data, target = data.to(device), target.to(device)\n",
        "\n",
        "            lower, upper = box_interval(model, data, epsilon)\n",
        "\n",
        "            correct_class_lower = lower[range(len(target)), target]\n",
        "\n",
        "\n",
        "            other_classes_upper = upper.clone()\n",
        "            other_classes_upper[range(len(target)), target] = -float('inf')\n",
        "            max_other_upper, _ = torch.max(other_classes_upper, dim=1)\n",
        "\n",
        "\n",
        "            robust = (correct_class_lower > max_other_upper).sum().item()\n",
        "            correct += robust\n",
        "            total += data.size(0)\n",
        "\n",
        "    robust_accuracy = 100. * correct / total\n",
        "    return robust_accuracy"
      ]
    },
    {
      "cell_type": "code",
      "execution_count": null,
      "metadata": {
        "id": "BfFw9IZIoIgO",
        "outputId": "07fa910a-a72b-4650-a8f4-f2470292df58"
      },
      "outputs": [
        {
          "name": "stdout",
          "output_type": "stream",
          "text": [
            "Measuring Robustness for epsilon in [.001,.002,.003,.004,.005,.006,.007,.008,.009,.01]\n",
            "Epsilon: 0.001 - Robust Accuracy: 67.14%\n",
            "Epsilon: 0.002 - Robust Accuracy: 22.53%\n",
            "Epsilon: 0.003 - Robust Accuracy: 6.11%\n",
            "Epsilon: 0.004 - Robust Accuracy: 1.68%\n",
            "Epsilon: 0.005 - Robust Accuracy: 0.29%\n",
            "Epsilon: 0.006 - Robust Accuracy: 0.08%\n",
            "Epsilon: 0.007 - Robust Accuracy: 0.01%\n",
            "Epsilon: 0.008 - Robust Accuracy: 0.00%\n",
            "Epsilon: 0.009 - Robust Accuracy: 0.00%\n",
            "Epsilon: 0.010 - Robust Accuracy: 0.00%\n"
          ]
        },
        {
          "data": {
            "image/png": "[encoded data removed]",
            "text/plain": [
              "<Figure size 800x600 with 1 Axes>"
            ]
          },
          "metadata": {},
          "output_type": "display_data"
        },
        {
          "name": "stdout",
          "output_type": "stream",
          "text": [
            "Measuring Robustness for epsilon in [.001,.002,.003,.004,.005,.006,.007,.008,.009,.01]\n",
            "Epsilon: 0.010 - Robust Accuracy: 74.71%\n",
            "Epsilon: 0.020 - Robust Accuracy: 71.82%\n",
            "Epsilon: 0.030 - Robust Accuracy: 69.04%\n",
            "Epsilon: 0.040 - Robust Accuracy: 65.87%\n",
            "Epsilon: 0.050 - Robust Accuracy: 62.43%\n",
            "Epsilon: 0.060 - Robust Accuracy: 59.05%\n",
            "Epsilon: 0.070 - Robust Accuracy: 55.25%\n",
            "Epsilon: 0.080 - Robust Accuracy: 49.83%\n",
            "Epsilon: 0.090 - Robust Accuracy: 43.34%\n",
            "Epsilon: 0.100 - Robust Accuracy: 35.37%\n"
          ]
        },
        {
          "data": {
            "image/png": "[encoded data removed]",
            "text/plain": [
              "<Figure size 800x600 with 1 Axes>"
            ]
          },
          "metadata": {},
          "output_type": "display_data"
        }
      ],
      "source": [
        "def graph(model, start, end, title):\n",
        "    epsilon_values = np.linspace(start, end, 10)\n",
        "\n",
        "    robust_accuracies = []\n",
        "    print(\"Measuring Robustness for epsilon in [.001,.002,.003,.004,.005,.006,.007,.008,.009,.01]\")\n",
        "    for eps in epsilon_values:\n",
        "        robust_acc = measure_robustness(model, eps)\n",
        "        robust_accuracies.append(robust_acc)\n",
        "        print(f\"Epsilon: {eps:.3f} - Robust Accuracy: {robust_acc:.2f}%\")\n",
        "\n",
        "    plt.figure(figsize=(8,6))\n",
        "    plt.plot(epsilon_values, robust_accuracies, marker='o')\n",
        "    plt.title(title)\n",
        "    plt.xlabel('Epsilon (L-infinity perturbation size)')\n",
        "    plt.ylabel('Robust Accuracy (%)')\n",
        "    plt.grid(True)\n",
        "    plt.show()\n",
        "model = torch.load('standardMINST.pth')\n",
        "graph(model, .001, .01, 'Robustness of Standard Neural Network vs. Epsilon')\n",
        "model = torch.load('robustMINST.pth')\n",
        "graph(model, .01, .1, 'Robustness of IBP Neural Network vs. Epsilon')"
      ]
    },
    {
      "cell_type": "markdown",
      "metadata": {
        "id": "p1OOVubUoIgO"
      },
      "source": [
        "## Problem 2: IBP for Text\n",
        "\n",
        "In this problem, you will implement an Interval Bound Propagation (IBP) training procedure for a simple neural network on textual data.\n",
        "\n",
        "### Network Description\n",
        "\n",
        "We will perform certified training for the **Bag-of-Words** architecture as described in [JRGL19]. The model is trained on the **IMDB movie review** dataset ([PyTorch Datasets](https://pytorch.org/text/stable/datasets.html)) to predict the sentiment (positive/negative) of each review.\n",
        "\n",
        "**Model Architecture:**\n",
        "1. **Embedding Layer:**\n",
        "   - **Pre-trained Embeddings:** Each word in the input is embedded into a pre-trained embedding space using **GloVe** embeddings ([GloVe Project Page](https://nlp.stanford.edu/projects/glove/)).\n",
        "   - **Learnable Transformation:** The embeddings are transformed into word vectors using a learnable linear transformation layer followed by a ReLU activation function.\n",
        "   \n",
        "2. **Aggregation:**\n",
        "   - The transformed word vectors are averaged to form a single vector representing the entire input review.\n",
        "   \n",
        "3. **Feedforward Network:**\n",
        "   - **First Layer:** A fully connected layer with a 100-dimensional hidden state followed by a ReLU activation.\n",
        "   - **Second Layer:** Another fully connected layer with a 100-dimensional hidden state followed by a ReLU activation.\n",
        "   - **Output Layer:** A final linear layer to obtain the logits.\n",
        "   \n",
        "4. **Prediction:**\n",
        "   - The final logits are passed through a softmax activation function to obtain the prediction probabilities for each sentiment class.\n",
        "   \n",
        "**Loss Function:**  \n",
        "Use **cross-entropy loss** for training the network.\n",
        "\n",
        "### Task\n",
        "\n",
        "Implement the **IBP [JRGL19]** training procedure on your network. You can reuse your code from **Problem 1** for the same.\n",
        "\n",
        "**Requirements:**\n",
        "- **Standard Accuracy:** Report the accuracy of your network on the standard (unperturbed) test set.\n",
        "- **Verified Accuracy:** Report the verified accuracy of your network, which indicates the number of test samples for which the network is certified to be robust within a specified perturbation radius.\n",
        "- **Training Time:** Measure and report the training time of your IBP-trained model.\n",
        "- **Comparison:** Contrast the training time and performance of the IBP-trained model with that of a standard (non-robust) training procedure.\n",
        "\n",
        "### Solution Requirements\n",
        "\n",
        "You should present your solution for this problem in the form of a Jupyter notebook. We recommend using **Google Colab** since it allows for easy interaction with your solution. Alternatively, you can upload the notebook to your **GitHub** repository."
      ]
    },
    {
      "cell_type": "markdown",
      "metadata": {
        "id": "eQQOULOOFCpR"
      },
      "source": [
        "# Explanation of Code\n",
        "\n",
        "#### **1. Data Preprocessing**\n",
        "- First, we load the IMDB datasets, splitting into test and train.\n",
        "- Then, we use a basic tokenizer from torchtext to process the text inputs.\n",
        "\n",
        "\n",
        "#### **2. Vocabulary Building**\n",
        "- First, we use the tokenizer to come up with a frequency count of each token in the training data.\n",
        "- Then, we add special tokens to the vocab in order to account for words that aren't in our tokenizer.\n",
        "- Next, we create the vocab dictionary that maps words from the tokenized words to indices.\n",
        "- Then, we load the GloVe embeddings.\n",
        "- Finally, we create the embedding matrix using GloVe embeddings and random values for words not part of GloVe.\n",
        "\n",
        "#### **3. Neighborhood Function for Word Embeddings**\n",
        "- We use scikit-learn's nearest neighbors with cosine similarity to map each word index to a list of neighbor indices which defines the list of allowed substitutions for a word.\n",
        "\n",
        "#### **4. Interval Bound Propogation**\n",
        "- We use the same mechanism from the previous question to derive the linear and relu bounds using IBP.\n",
        "- Then, we use the `worst_case_loss` function to propogate the lower and upper purtubations through the network.\n",
        "- The worst case loss is computed by calculating the cross-entropy loss for each case and using the `logsumexp` function to approximate the maximum loss over these cases.\n",
        "\n",
        "#### **5. Precomputing Word Embedding Bounds**\n",
        "- For each word we compute the lower and upper bounds of each word embedding based on the nearest neighbor calculations from earlier.\n",
        "\n",
        "#### **6. Model Architecture**\n",
        "- The model architecture begins with a GloVe embedding layer and a learnable linear layer followed by averaging a ReLU layer.\n",
        "- Then, there are two more layers consisting of an affine layer followed by ReLU.\n",
        "\n",
        "#### **7. Training**\n",
        "- First, we have a collate function that tokenizes, pads sequences to the same length, and converts labels to 0s an 1s.\n",
        "- Then, we ue the torch dataloader to create iterable batches for training.\n",
        "- We trained with 10 epochs for both standard and robust training.\n",
        "- We use the same epsilon and k scheduling from the first question with a k_final value of .4 and eps_max of 1.\n",
        "- We use 100 hidden layer size and 300 embedding dimension size as from the paper.\n",
        "- We use the `train_imdb` function to train the standard and robust networks. The function uses k to balance the robust loss with standard loss during robust training.\n",
        "\n",
        "#### **8. Evaluation**\n",
        "- We use the `certify_example` function to evaluate if an input is certably robust by checking if the differnce between the lower bound of the true class logit is greater than the upper bound of the other class logit.\n",
        "- Then, we use the `evaluate_certified_accuracy` function to find the percentage of test examples that the model is certifiably robust for based on the perturbation size epsilon.\n",
        "- Next, `graph_llm` is used to iterate through 10 equally spaced epsilons and graph the resulted certified robustness.\n",
        "\n",
        "#### **9. Results**\n",
        "- The IBP model took about 10 minutes to train on 10 epochs. The standard model took about 2 minutes to train on 10 epochs. The standard model ended with 86% accuracy and the robust model ended with 86% accuracy as well. We plotted certified accuracy for both models and we can see that the certified model did a lot better. The certified model was evaluated against epsilon in the interval [.01, .1] starting with a robust accuracy of about 41% and ended with 2% robust accuracy. The standard model was evaluated against epsilon in the range [.01, .1] starting with a robust accuracy of 43.7% and quickly falling to 0%. The robust model showed better results with greater epsilon values"
      ]
    },
    {
      "cell_type": "code",
      "execution_count": 85,
      "metadata": {
        "collapsed": true,
        "id": "T8iDcfDtMWF6"
      },
      "outputs": [],
      "source": [
        "#llm for probabilities\n",
        "device = torch.device(\"cuda\" if torch.cuda.is_available() else \"cpu\")\n",
        "train_dataset_imdb = IMDB(split='train')\n",
        "test_dataset_imdb = IMDB(split='test')\n",
        "tokenizer = get_tokenizer('basic_english')\n",
        "\n",
        "embedding_dim = 300\n",
        "glove = GloVe(name='6B', dim=embedding_dim)\n",
        "\n",
        "token_counts = Counter()\n",
        "for (label, text) in train_dataset_imdb:\n",
        "    tokens = tokenizer(text)\n",
        "    token_counts.update(tokens)\n",
        "\n",
        "special_tokens = ['<unk>', '<pad>']\n",
        "for token in special_tokens:\n",
        "    token_counts[token] = 1e9\n",
        "\n",
        "dataset_vocab = [word for word, count in token_counts.items()]\n",
        "vocab = {word: idx for idx, word in enumerate(dataset_vocab)}\n",
        "vocab_size = len(vocab)\n",
        "\n",
        "embedding_list = []\n",
        "for word in vocab:\n",
        "    if word in glove.stoi:\n",
        "        idx = glove.stoi[word]\n",
        "        embedding_list.append(glove.vectors[idx])\n",
        "    else:\n",
        "        embedding_list.append(torch.randn(embedding_dim))\n",
        "\n",
        "embedding_matrix = torch.stack(embedding_list)\n",
        "embedding_matrix = embedding_matrix.to(device)"
      ]
    },
    {
      "cell_type": "code",
      "execution_count": null,
      "metadata": {
        "id": "8VcUO06LJz6i"
      },
      "outputs": [],
      "source": [
        "def neighborhood(embedding_matrix, k=8):\n",
        "    vocab_size = embedding_matrix.size(0)\n",
        "    N = {}\n",
        "    embeddings_np = embedding_matrix.cpu().numpy()\n",
        "\n",
        "    norms = np.linalg.norm(embeddings_np, axis=1, keepdims=True)\n",
        "    normalized_embeddings = embeddings_np / norms\n",
        "    nbrs = NearestNeighbors(n_neighbors=k+1, algorithm='auto', metric='cosine').fit(normalized_embeddings)\n",
        "\n",
        "    distances, indices = nbrs.kneighbors(normalized_embeddings)\n",
        "    for idx in range(vocab_size):\n",
        "        neighbor_indices = indices[idx][1:]\n",
        "        N[idx] = neighbor_indices.tolist()\n",
        "    return N"
      ]
    },
    {
      "cell_type": "code",
      "execution_count": 137,
      "metadata": {
        "id": "Rr5Q0TDVeRhj"
      },
      "outputs": [],
      "source": [
        "def bound_linear(z_lower, z_upper, W, b):\n",
        "    W_abs = W.abs()\n",
        "    uk_1 = (z_lower + z_upper)/2\n",
        "    rk_1 = (z_upper - z_lower)/2\n",
        "    uk = F.linear(uk_1, W, b)\n",
        "    rk = F.linear(rk_1, W_abs, None)\n",
        "    z_lower = uk - rk\n",
        "    z_upper = uk + rk\n",
        "    return z_lower, z_upper\n",
        "\n",
        "def bound_relu(lower_input, upper_input):\n",
        "    return F.relu(lower_input), F.relu(upper_input)\n",
        "def precompute_word_embedding_bounds(vocab_size, embedding_matrix, N):\n",
        "    lower_embedding = torch.zeros_like(embedding_matrix)\n",
        "    upper_embedding = torch.zeros_like(embedding_matrix)\n",
        "    for w in range(vocab_size):\n",
        "        S_w = N.get(w, []) + [w]\n",
        "        embeddings_S_w = embedding_matrix[S_w]\n",
        "        lower_embedding[w] = embeddings_S_w.min(dim=0)[0]\n",
        "        upper_embedding[w] = embeddings_S_w.max(dim=0)[0]\n",
        "    return lower_embedding, upper_embedding\n",
        "\n",
        "class BoWModel(nn.Module):\n",
        "    def __init__(self, embedding_dim, hidden_dim, num_classes, glove_embeddings):\n",
        "        super(BoWModel, self).__init__()\n",
        "        self.embedding_layer = nn.Embedding.from_pretrained(glove_embeddings, freeze=False)\n",
        "        self.linear1 = nn.Linear(embedding_dim, embedding_dim).to(device)\n",
        "        self.relu1 = nn.ReLU()\n",
        "        self.linear2 = nn.Linear(embedding_dim, hidden_dim).to(device)\n",
        "        self.relu2 = nn.ReLU()\n",
        "        self.linear3 = nn.Linear(hidden_dim, hidden_dim).to(device)\n",
        "        self.relu3 = nn.ReLU()\n",
        "        self.linear4 = nn.Linear(hidden_dim, num_classes).to(device)\n",
        "    def forward(self, x):\n",
        "        x = self.embedding_layer(x)\n",
        "        x = self.linear1(x)\n",
        "        x = self.relu1(x)\n",
        "        x = torch.mean(x, dim=1)\n",
        "        x = self.linear2(x)\n",
        "        x = self.relu2(x)\n",
        "        x = self.linear3(x)\n",
        "        x = self.relu3(x)\n",
        "        x = self.linear4(x)\n",
        "        return x\n",
        "\n",
        "def worst_case_loss(model, lower_input, upper_input, labels):\n",
        "    weight1 = model.linear1.weight\n",
        "    bias1 = model.linear1.bias\n",
        "    lower_linear1, upper_linear1 = bound_linear(lower_input, upper_input, weight1, bias1)\n",
        "    lower_relu1, upper_relu1 = bound_relu(lower_linear1, upper_linear1)\n",
        "\n",
        "    lower_avg = lower_relu1.mean(dim=1)\n",
        "    upper_avg = upper_relu1.mean(dim=1)\n",
        "\n",
        "    weight2 = model.linear2.weight\n",
        "    bias2 = model.linear2.bias\n",
        "\n",
        "    lower_linear2, upper_linear2 = bound_linear(lower_avg, upper_avg, weight2, bias2)\n",
        "    lower_relu2, upper_relu2 = bound_relu(lower_linear2, upper_linear2)\n",
        "\n",
        "    weight3 = model.linear3.weight\n",
        "    bias3 = model.linear3.bias\n",
        "\n",
        "    lower_linear3, upper_linear3 = bound_linear(lower_relu2, upper_relu2, weight3, bias3)\n",
        "    lower_relu3, upper_relu3 = bound_relu(lower_linear3, upper_linear3)\n",
        "\n",
        "    weight4 = model.linear4.weight\n",
        "    bias4 = model.linear4.bias\n",
        "\n",
        "    lower_logits, upper_logits = bound_linear(lower_relu3, upper_relu3, weight4, bias4)\n",
        "\n",
        "    batch_size = labels.size(0)\n",
        "    num_classes = model.linear4.out_features\n",
        "    worst_case_losses = []\n",
        "    for i in range(batch_size):\n",
        "        # Stack the logits from the corners\n",
        "        logits_corners = torch.stack([\n",
        "            torch.stack([lower_logits[i, 0], lower_logits[i, 1]]),\n",
        "            torch.stack([lower_logits[i, 0], upper_logits[i, 1]]),\n",
        "            torch.stack([upper_logits[i, 0], lower_logits[i, 1]]),\n",
        "            torch.stack([upper_logits[i, 0], upper_logits[i, 1]]),\n",
        "        ], dim=0)  # Shape: (4, num_classes)\n",
        "\n",
        "        # Compute cross-entropy losses for all corners\n",
        "        labels_i = labels[i].expand(4)  # Shape: (4,)\n",
        "        losses = F.cross_entropy(logits_corners, labels_i, reduction='none')  # Shape: (4,)\n",
        "\n",
        "        # Use logsumexp to approximate the maximum loss\n",
        "        worst_case_loss = torch.logsumexp(losses, dim=0)\n",
        "        worst_case_losses.append(worst_case_loss)\n",
        "    worst_case_losses = torch.stack(worst_case_losses)\n",
        "\n",
        "    return worst_case_losses.mean()"
      ]
    },
    {
      "cell_type": "code",
      "execution_count": 86,
      "metadata": {
        "id": "K3sT9B3HgsuY"
      },
      "outputs": [],
      "source": [
        "N = neighborhood(embedding_matrix, k=8)\n",
        "lower_embedding, upper_embedding = precompute_word_embedding_bounds(len(vocab), embedding_matrix, N)\n",
        "lower_embedding = lower_embedding.to(device)\n",
        "upper_embedding = upper_embedding.to(device)"
      ]
    },
    {
      "cell_type": "code",
      "execution_count": 96,
      "metadata": {
        "id": "249Tdhpxgb7c"
      },
      "outputs": [],
      "source": [
        "def collate_batch(batch):\n",
        "    label_list, text_list, lengths = [], [], []\n",
        "    for (label, text) in batch:\n",
        "        label_list.append(1 if label == 2 else 0)\n",
        "        tokens = tokenizer(text)\n",
        "        indices = [vocab.get(token, vocab['<unk>']) for token in tokens]\n",
        "        processed_text = torch.tensor(indices, dtype=torch.long)\n",
        "        text_list.append(processed_text)\n",
        "        lengths.append(len(processed_text))\n",
        "    text_list = nn.utils.rnn.pad_sequence(text_list, padding_value=vocab['<pad>'])\n",
        "    return torch.tensor(label_list, dtype=torch.long), text_list.t(), torch.tensor(lengths, dtype=torch.long)\n",
        "batch_size = 64\n",
        "train_loader_imdb = DataLoader(train_dataset_imdb, batch_size=batch_size, shuffle=True, collate_fn=collate_batch)\n",
        "test_loader_imdb = DataLoader(test_dataset_imdb, batch_size=batch_size, shuffle=False, collate_fn=collate_batch)"
      ]
    },
    {
      "cell_type": "code",
      "source": [
        "epochs = 10\n",
        "T_init = 5\n",
        "k_max = .4\n",
        "eps_max = 1\n",
        "embedding_dim = 300\n",
        "num_classes = 2\n",
        "hidden_dim = 100\n",
        "learning_rate = 0.001\n",
        "total_samples = len(list(IMDB(split='train')))\n",
        "total_steps = total_samples // batch_size * epochs"
      ],
      "metadata": {
        "id": "GHppsXJs3fX7"
      },
      "execution_count": 189,
      "outputs": []
    },
    {
      "cell_type": "code",
      "execution_count": 194,
      "metadata": {
        "id": "h7EM30wKTYqF"
      },
      "outputs": [],
      "source": [
        "# Training\n",
        "def train_imdb(model, robust):\n",
        "  model.train()\n",
        "  optimizer_BoW = optim.Adam(model.parameters(), lr=learning_rate)\n",
        "\n",
        "  global_step = 0\n",
        "  for epoch in range(epochs):\n",
        "      total_loss = 0.0\n",
        "      total_correct = 0\n",
        "      total_samples = 0\n",
        "      k = getK(global_step, total_steps, k_max)\n",
        "      epsilon = getEps(global_step, total_steps, eps_max)\n",
        "\n",
        "      for labels, x_batch, lengths in train_loader_imdb:\n",
        "          labels = labels.to(device)\n",
        "          x_batch = x_batch.to(device)\n",
        "          optimizer_BoW.zero_grad()\n",
        "\n",
        "          outputs = model(x_batch)\n",
        "          loss = F.cross_entropy(outputs, labels)\n",
        "          if robust:\n",
        "            lower_input = lower_embedding[x_batch]\n",
        "            upper_input = upper_embedding[x_batch]\n",
        "\n",
        "            embedding_input = model.embedding_layer(x_batch)\n",
        "            lower_input = embedding_input - epsilon * (embedding_input - lower_input)\n",
        "            upper_input = embedding_input + epsilon * (upper_input - embedding_input)\n",
        "\n",
        "            worst_loss = worst_case_loss(model, lower_input, upper_input, labels)\n",
        "\n",
        "            loss = (1 - k) * loss + k * worst_loss\n",
        "          loss.backward()\n",
        "          optimizer_BoW.step()\n",
        "\n",
        "          total_loss += loss.item() * labels.size(0)\n",
        "          total_correct += (outputs.argmax(dim=1) == labels).sum().item()\n",
        "          total_samples += labels.size(0)\n",
        "          global_step += 1\n",
        "\n",
        "      avg_loss = total_loss / total_samples\n",
        "      accuracy = total_correct / total_samples\n",
        "      print(f'Epoch {epoch+1}, Loss: {avg_loss:.4f}, Accuracy: {accuracy:.4f}')\n",
        "def evaluate_imdb(model):\n",
        "  total_correct = 0\n",
        "  total_samples = 0\n",
        "  model.eval()\n",
        "  with torch.no_grad():\n",
        "      for labels, x_batch, lengths in test_loader_imdb:\n",
        "          labels = labels.to(device)\n",
        "          x_batch = x_batch.to(device)\n",
        "          outputs = model(x_batch)\n",
        "          total_correct += (outputs.argmax(dim=1) == labels).sum().item()\n",
        "          total_samples += labels.size(0)\n",
        "\n",
        "  test_accuracy = total_correct / total_samples\n",
        "  print(f'Test Accuracy: {test_accuracy:.4f}')"
      ]
    },
    {
      "cell_type": "markdown",
      "metadata": {
        "id": "NZrABXz2EtR-"
      },
      "source": [
        "### Training BoW IBP Network"
      ]
    },
    {
      "cell_type": "code",
      "source": [
        "BoW = BoWModel(embedding_dim, hidden_dim, num_classes, embedding_matrix).to(device)\n",
        "train_imdb(BoW, True)\n",
        "torch.save(BoW.state_dict(), 'BoW.pth')\n",
        "evaluate_imdb(BoW)"
      ],
      "metadata": {
        "colab": {
          "base_uri": "https://localhost:8080/"
        },
        "id": "2rM3IALk-HNH",
        "outputId": "4615fe79-47f2-4c73-e47c-86e4054e54dc"
      },
      "execution_count": 195,
      "outputs": [
        {
          "output_type": "stream",
          "name": "stdout",
          "text": [
            "Epoch 1, Loss: 0.1181, Accuracy: 0.9589\n",
            "Epoch 2, Loss: 4.9897, Accuracy: 0.6108\n",
            "Epoch 3, Loss: 0.9078, Accuracy: 0.6348\n",
            "Epoch 4, Loss: 0.6936, Accuracy: 0.5525\n",
            "Epoch 5, Loss: 0.6889, Accuracy: 0.6021\n",
            "Epoch 6, Loss: 0.6852, Accuracy: 0.6634\n",
            "Epoch 7, Loss: 0.6830, Accuracy: 0.7469\n",
            "Epoch 8, Loss: 0.6795, Accuracy: 0.8184\n",
            "Epoch 9, Loss: 0.6782, Accuracy: 0.8650\n",
            "Epoch 10, Loss: 0.6763, Accuracy: 0.8609\n",
            "Test Accuracy: 0.8637\n"
          ]
        }
      ]
    },
    {
      "cell_type": "markdown",
      "metadata": {
        "id": "uoCiWENfE6Pb"
      },
      "source": [
        "### Training Standard BoW Network"
      ]
    },
    {
      "cell_type": "code",
      "execution_count": 192,
      "metadata": {
        "colab": {
          "base_uri": "https://localhost:8080/"
        },
        "id": "XwGwdRCrmHzY",
        "outputId": "97879862-87e7-48b2-8e2e-6567c00a6baf"
      },
      "outputs": [
        {
          "output_type": "stream",
          "name": "stdout",
          "text": [
            "Epoch 1, Loss: 0.1240, Accuracy: 0.9602\n",
            "Epoch 2, Loss: 0.0061, Accuracy: 0.9987\n",
            "Epoch 3, Loss: 0.0021, Accuracy: 0.9995\n",
            "Epoch 4, Loss: 0.0016, Accuracy: 0.9998\n",
            "Epoch 5, Loss: 0.0016, Accuracy: 0.9999\n",
            "Epoch 6, Loss: 0.0015, Accuracy: 0.9998\n",
            "Epoch 7, Loss: 0.0015, Accuracy: 0.9997\n",
            "Epoch 8, Loss: 0.0016, Accuracy: 0.9997\n",
            "Epoch 9, Loss: 0.0014, Accuracy: 0.9998\n",
            "Epoch 10, Loss: 0.0014, Accuracy: 0.9998\n",
            "Test Accuracy: 0.8625\n"
          ]
        }
      ],
      "source": [
        "BoW_standard = BoWModel(embedding_dim, hidden_dim, num_classes, embedding_matrix).to(device)\n",
        "epochs = 10\n",
        "train_imdb(BoW_standard, False)\n",
        "torch.save(BoW_standard.state_dict(), 'BoW_standard.pth')\n",
        "evaluate_imdb(BoW_standard)"
      ]
    },
    {
      "cell_type": "markdown",
      "metadata": {
        "id": "9xCcbmuJEgsU"
      },
      "source": [
        "### Testing Networks for Robustness"
      ]
    },
    {
      "cell_type": "code",
      "execution_count": 160,
      "metadata": {
        "id": "65fBv8axjfJn"
      },
      "outputs": [],
      "source": [
        "def certify_example(model, lower_input, upper_input, true_label):\n",
        "    weight1 = model.linear1.weight\n",
        "    bias1 = model.linear1.bias\n",
        "\n",
        "    lower_linear1, upper_linear1 = bound_linear(lower_input, upper_input, weight1, bias1)\n",
        "    lower_relu1, upper_relu1 = bound_relu(lower_linear1, upper_linear1)\n",
        "\n",
        "    lower_avg = lower_relu1.mean(dim=0)\n",
        "    upper_avg = upper_relu1.mean(dim=0)\n",
        "\n",
        "    weight2 = model.linear2.weight\n",
        "    bias2 = model.linear2.bias\n",
        "\n",
        "    lower_linear2, upper_linear2 = bound_linear(lower_avg.unsqueeze(0), upper_avg.unsqueeze(0), weight2, bias2)\n",
        "    lower_relu2, upper_relu2 = bound_relu(lower_linear2, upper_linear2)\n",
        "\n",
        "    weight3 = model.linear3.weight\n",
        "    bias3 = model.linear3.bias\n",
        "\n",
        "    lower_linear3, upper_linear3 = bound_linear(lower_relu2, upper_relu2, weight3, bias3)\n",
        "    lower_relu3, upper_relu3 = bound_relu(lower_linear3, upper_linear3)\n",
        "\n",
        "    weight4 = model.linear4.weight\n",
        "    bias4 = model.linear4.bias\n",
        "\n",
        "    lower_logits, upper_logits = bound_linear(lower_relu3, upper_relu3, weight4, bias4)\n",
        "\n",
        "    true_class = true_label.item()\n",
        "    other_class = 1 - true_class\n",
        "\n",
        "    diff_lower = lower_logits[0, true_class] - upper_logits[0, other_class]\n",
        "\n",
        "    if diff_lower > 0:\n",
        "        return True\n",
        "    else:\n",
        "        return False\n",
        "\n",
        "def evaluate_certified_accuracy(model, test_loader, epsilon):\n",
        "    model.eval()\n",
        "    certified_correct = 0\n",
        "    total_samples = 0\n",
        "\n",
        "    with torch.no_grad():\n",
        "        for labels, x_batch, lengths in test_loader:\n",
        "            labels = labels.to(device)\n",
        "            x_batch = x_batch.to(device)\n",
        "            batch_size = labels.size(0)\n",
        "\n",
        "            embedding_input = model.embedding_layer(x_batch)\n",
        "            perturbation = epsilon * (upper_embedding[x_batch] - lower_embedding[x_batch]) / 2\n",
        "            center = (upper_embedding[x_batch] + lower_embedding[x_batch]) / 2\n",
        "\n",
        "            lower_input = center - perturbation\n",
        "            upper_input = center + perturbation\n",
        "\n",
        "            for i in range(batch_size):\n",
        "                is_certified = certify_example(model, lower_input[i], upper_input[i], labels[i])\n",
        "                if is_certified:\n",
        "                    certified_correct += 1\n",
        "                total_samples += 1\n",
        "    certified_accuracy = certified_correct / total_samples\n",
        "    return certified_accuracy * 100\n",
        "\n",
        "\n",
        "def graph_llm(model, start, end, title):\n",
        "    epsilon_values = np.linspace(start, end, 10)\n",
        "    robust_accuracies = []\n",
        "    for eps in epsilon_values:\n",
        "        robust_acc = evaluate_certified_accuracy(model, test_loader_imdb, eps)\n",
        "        robust_accuracies.append(robust_acc)\n",
        "        print(f\"Epsilon: {eps}, Robust Accuracy: {robust_acc}%\")\n",
        "    plt.figure(figsize=(8,6))\n",
        "    plt.plot(epsilon_values, robust_accuracies, marker='o')\n",
        "    plt.title(title)\n",
        "    plt.xlabel('Epsilon (L-infinity perturbation size)')\n",
        "    plt.ylabel('Robust Accuracy (%)')\n",
        "    plt.grid(True)\n",
        "    plt.show()"
      ]
    },
    {
      "cell_type": "code",
      "execution_count": 196,
      "metadata": {
        "colab": {
          "base_uri": "https://localhost:8080/",
          "height": 773
        },
        "id": "gNM3twa9nlst",
        "outputId": "e49eb9c0-2d94-4df3-e66f-111e70782ac5"
      },
      "outputs": [
        {
          "output_type": "stream",
          "name": "stdout",
          "text": [
            "Epsilon: 0.01, Robust Accuracy: 40.967999999999996%\n",
            "Epsilon: 0.020000000000000004, Robust Accuracy: 27.752%\n",
            "Epsilon: 0.030000000000000006, Robust Accuracy: 19.752%\n",
            "Epsilon: 0.04000000000000001, Robust Accuracy: 13.752%\n",
            "Epsilon: 0.05000000000000001, Robust Accuracy: 9.484%\n",
            "Epsilon: 0.06000000000000001, Robust Accuracy: 6.644%\n",
            "Epsilon: 0.07, Robust Accuracy: 4.732%\n",
            "Epsilon: 0.08, Robust Accuracy: 3.58%\n",
            "Epsilon: 0.09000000000000001, Robust Accuracy: 2.692%\n",
            "Epsilon: 0.1, Robust Accuracy: 1.992%\n"
          ]
        },
        {
          "output_type": "display_data",
          "data": {
            "text/plain": [
              "<Figure size 800x600 with 1 Axes>"
            ],
            "image/png": "[encoded data removed]"
          },
          "metadata": {}
        }
      ],
      "source": [
        "\n",
        "graph_llm(BoW, .01,.10, \"Robust BoW Robust Accuracy vs Epsilon\")"
      ]
    },
    {
      "cell_type": "code",
      "source": [
        "graph_llm(BoW_standard, 0.01, .1, \"Standard BoW Robust Accuracy vs Epsilon\")"
      ],
      "metadata": {
        "colab": {
          "base_uri": "https://localhost:8080/",
          "height": 773
        },
        "id": "n8zzOE10JitJ",
        "outputId": "38434734-655f-43e2-9f34-504908fd679b"
      },
      "execution_count": 177,
      "outputs": [
        {
          "output_type": "stream",
          "name": "stdout",
          "text": [
            "Epsilon: 0.01, Robust Accuracy: 43.763999999999996%\n",
            "Epsilon: 0.020000000000000004, Robust Accuracy: 0.012%\n",
            "Epsilon: 0.030000000000000006, Robust Accuracy: 0.0%\n",
            "Epsilon: 0.04000000000000001, Robust Accuracy: 0.0%\n",
            "Epsilon: 0.05000000000000001, Robust Accuracy: 0.0%\n",
            "Epsilon: 0.06000000000000001, Robust Accuracy: 0.0%\n",
            "Epsilon: 0.07, Robust Accuracy: 0.0%\n",
            "Epsilon: 0.08, Robust Accuracy: 0.0%\n",
            "Epsilon: 0.09000000000000001, Robust Accuracy: 0.0%\n",
            "Epsilon: 0.1, Robust Accuracy: 0.0%\n"
          ]
        },
        {
          "output_type": "display_data",
          "data": {
            "text/plain": [
              "<Figure size 800x600 with 1 Axes>"
            ],
            "image/png": "[encoded data removed]"
          },
          "metadata": {}
        }
      ]
    },
    {
      "cell_type": "code",
      "source": [
        "#interacting with network\n",
        "sample_input = \"it started off great but i hate this movie so much. its so horrible\"\n",
        "# use collate batch\n",
        "sample_input = collate_batch([(1, sample_input)])[1].to(device)\n",
        "BoW.eval()\n",
        "with torch.no_grad():\n",
        "    output = BoW(sample_input)\n",
        "    print(output)\n",
        "    print(output.argmax(dim=1))\n"
      ],
      "metadata": {
        "id": "PSI9um0KLFyN"
      },
      "execution_count": null,
      "outputs": []
    },
    {
      "cell_type": "markdown",
      "metadata": {
        "id": "TXqH5VGcsTj2"
      },
      "source": [
        "## Problem 3: $L_∞$ Networks (Lp Nets)\n",
        "\n",
        "We discussed **$L_∞$** networks in class, as described in [ZCL+21]. In this problem, you are tasked with formally deriving a general expression or a precise lower bound for the **$L_∞$ certified radius** of an **$L_∞$ network** for any given input **x** and weight **w**, using the properties of the network."
      ]
    },
    {
      "cell_type": "markdown",
      "metadata": {
        "id": "uNBr5VqMtseE"
      },
      "source": [
        "### Setup\n",
        "\n",
        "An $L_\\infty$ network is constructed using $L_\\infty$-dist neurons, where each neuron computes the operation:\n",
        "\n",
        "$$\n",
        "    u(\\mathbf{x}, \\theta) = \\|\\mathbf{x} - \\mathbf{w}\\|_\\infty + b,\n",
        "$$\n",
        "\n",
        "with parameters $\\theta = \\{ \\mathbf{w}, b \\}$. The network output is defined as:\n",
        "\n",
        "$$\n",
        "    g(\\mathbf{x}) = ( -x_1^{(L)}, -x_2^{(L)}, \\ldots, -x_M^{(L)} ),\n",
        "$$\n",
        "\n",
        "where $x_i^{(L)}$ is the output of the last layer for class $i$, and $M$ is the number of classes. The classifier is then:\n",
        "\n",
        "$$\n",
        "    f(\\mathbf{x}) = \\arg \\max_{i \\in [M]} g_i(\\mathbf{x}).\n",
        "$$\n",
        "\n",
        "$L_\\infty$ networks are 1-Lipschitz with respect to the $L_\\infty$ norm:\n",
        "\n",
        "$$\n",
        "    \\|g(\\mathbf{x_1}) - g(\\mathbf{x_2})\\|_\\infty \\leq \\|\\mathbf{x_1} - \\mathbf{x_2}\\|_\\infty, \\quad \\forall \\mathbf{x_1}, \\mathbf{x_2} \\in \\mathbb{R}^d.\n",
        "$$\n",
        "\n",
        "### Certified Radius Derivation\n",
        "\n",
        "We want a general expression or a precise lower bound for the certified radius $R_{\\text{cert}}$ of the $L_\\infty$ network, given an input $\\mathbf{x}$ and weights $\\mathbf{w}$. The certified radius is the minimum perturbation required to change the classifier's prediction:\n",
        "\n",
        "$$\n",
        "    R_{\\text{cert}}(f; \\mathbf{x}, y) = \\inf_{\\mathbf{x'} : f(\\mathbf{x'}) \\neq f(\\mathbf{x})} \\|\\mathbf{x'} - \\mathbf{x}\\|_\\infty,\n",
        "$$\n",
        "\n",
        "\n",
        "### Step 1: Define the Margin\n",
        "\n",
        "Let's define the margin at input $\\mathbf{x}$ as the difference between the logit for the true class and the largest logit for any other class:\n",
        "\n",
        "$$\n",
        "    \\text{margin}(\\mathbf{x}; g) = g_y(\\mathbf{x}) - \\max_{i \\neq y} g_i(\\mathbf{x}).\n",
        "$$\n",
        "\n",
        "### Step 2: Utilize the Lipschitz Property\n",
        "\n",
        "Since the network $g$ is 1-Lipschitz with respect to the $L_\\infty$ norm, any perturbation $\\delta$ satisfies:\n",
        "\n",
        "$$\n",
        "    \\|g(\\mathbf{x} + \\delta) - g(\\mathbf{x})\\|_\\infty \\leq \\|\\delta\\|_\\infty.\n",
        "$$\n",
        "\n",
        "Meaning that each component of the output can change by at most $\\|\\delta\\|_\\infty$:\n",
        "\n",
        "$$\n",
        "    |g_i(\\mathbf{x} + \\delta) - g_i(\\mathbf{x})| \\leq \\|\\delta\\|_\\infty, \\quad \\forall i \\in [M].\n",
        "$$\n",
        "\n",
        "### Step 3: Find the Minimum Perturbation to Change the Prediction\n",
        "\n",
        "To change the prediction from class $y$ to another class $k \\neq y$, the following condition must be met:\n",
        "\n",
        "$$\n",
        "    g_y(\\mathbf{x} + \\delta) \\leq g_k(\\mathbf{x} + \\delta).\n",
        "$$\n",
        "\n",
        "Using the Lipschitz property, we get:\n",
        "\n",
        "$$\n",
        "    g_y(\\mathbf{x} + \\delta) \\geq g_y(\\mathbf{x}) - \\|\\delta\\|_\\infty,\n",
        "$$\n",
        "\n",
        "$$\n",
        "    g_k(\\mathbf{x} + \\delta) \\leq g_k(\\mathbf{x}) + \\|\\delta\\|_\\infty.\n",
        "$$\n",
        "\n",
        "Therefore, for the prediction to change, it suffices that:\n",
        "\n",
        "$$\n",
        "    g_y(\\mathbf{x}) - \\|\\delta\\|_\\infty \\leq g_k(\\mathbf{x}) + \\|\\delta\\|_\\infty.\n",
        "$$\n",
        "\n",
        "Simplifying, we get:\n",
        "\n",
        "$$\n",
        "    g_y(\\mathbf{x}) - g_k(\\mathbf{x}) \\leq 2 \\|\\delta\\|_\\infty.\n",
        "$$\n",
        "\n",
        "### Step 4: Derive the Certified Radius\n",
        "\n",
        "The minimum $\\|\\delta\\|_\\infty$ required to change the prediction to any other class is therefore at least half the margin:\n",
        "\n",
        "$$\n",
        "    \\|\\delta\\|_\\infty \\geq \\frac{1}{2} \\left( g_y(\\mathbf{x}) - \\max_{i \\neq y} g_i(\\mathbf{x}) \\right).\n",
        "$$\n",
        "\n",
        "Thus, the certified radius is given by:\n",
        "\n",
        "$$\n",
        "    R_{\\text{cert}}(f; \\mathbf{x}, y) \\geq \\frac{\\text{margin}(\\mathbf{x}; g)}{2}.\n",
        "$$"
      ]
    }
  ],
  "metadata": {
    "accelerator": "GPU",
    "colab": {
      "gpuType": "T4",
      "provenance": []
    },
    "kernelspec": {
      "display_name": "Python 3",
      "name": "python3"
    },
    "language_info": {
      "codemirror_mode": {
        "name": "ipython",
        "version": 3
      },
      "file_extension": ".py",
      "mimetype": "text/x-python",
      "name": "python",
      "nbconvert_exporter": "python",
      "pygments_lexer": "ipython3",
      "version": "3.12.7"
    }
  },
  "nbformat": 4,
  "nbformat_minor": 0
}